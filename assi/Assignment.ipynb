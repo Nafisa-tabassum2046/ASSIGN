{
 "cells": [
  {
   "cell_type": "markdown",
   "id": "04bd1b4a",
   "metadata": {},
   "source": [
    "# Question 1\n"
   ]
  },
  {
   "cell_type": "code",
   "execution_count": null,
   "id": "479f94cd",
   "metadata": {},
   "outputs": [],
   "source": [
    "# 1. Given two integer numbers return their product. If the product is greater than 1000, then return their sum."
   ]
  },
  {
   "cell_type": "code",
   "execution_count": 13,
   "id": "8e5af0cd",
   "metadata": {},
   "outputs": [
    {
     "name": "stdout",
     "output_type": "stream",
     "text": [
      "Enter 1st number: 833\n",
      "Enter 1st number: 544\n",
      "1377\n"
     ]
    }
   ],
   "source": [
    "a = int(input(\"Enter 1st number: \"))\n",
    "b = int(input(\"Enter 1st number: \"))\n",
    "c= a*b\n",
    "if c>1000:\n",
    "    d = a+b \n",
    "    print(d)\n",
    "else:\n",
    "    print(c)"
   ]
  },
  {
   "cell_type": "markdown",
   "id": "c39fd020",
   "metadata": {},
   "source": [
    "# Question 2"
   ]
  },
  {
   "cell_type": "code",
   "execution_count": null,
   "id": "2f487cb8",
   "metadata": {},
   "outputs": [],
   "source": [
    "# 2. Given a range of the first 10 numbers, Iterate from the start number to the end number, and In each iteration\n",
    "#  print the sum of the current number and previous number"
   ]
  },
  {
   "cell_type": "code",
   "execution_count": 19,
   "id": "bfcca8d5",
   "metadata": {},
   "outputs": [
    {
     "name": "stdout",
     "output_type": "stream",
     "text": [
      "Current Number 0 Previous Number 0 sum is 0\n",
      "Current Number 1 Previous Number 0 sum is 1\n",
      "Current Number 2 Previous Number 1 sum is 3\n",
      "Current Number 3 Previous Number 2 sum is 5\n",
      "Current Number 4 Previous Number 3 sum is 7\n",
      "Current Number 5 Previous Number 4 sum is 9\n",
      "Current Number 6 Previous Number 5 sum is 11\n",
      "Current Number 7 Previous Number 6 sum is 13\n",
      "Current Number 8 Previous Number 7 sum is 15\n",
      "Current Number 9 Previous Number 8 sum is 17\n"
     ]
    }
   ],
   "source": [
    "li = list(range(10))\n",
    "pn = 0\n",
    "for i in li:\n",
    "    x= pn + i\n",
    "    print( 'Current Number '+ str(i) + ' Previous Number ' +  str(pn) + ' sum is ' + str(x))\n",
    "    pn = i"
   ]
  },
  {
   "cell_type": "markdown",
   "id": "361a5ef9",
   "metadata": {},
   "source": [
    "# Question 3"
   ]
  },
  {
   "cell_type": "code",
   "execution_count": null,
   "id": "f34f5e1a",
   "metadata": {},
   "outputs": [],
   "source": [
    "# 3. Print First 10 natural numbers using while loop.\n"
   ]
  },
  {
   "cell_type": "code",
   "execution_count": 17,
   "id": "2be5a7eb",
   "metadata": {},
   "outputs": [
    {
     "name": "stdout",
     "output_type": "stream",
     "text": [
      "1\n",
      "2\n",
      "3\n",
      "4\n",
      "5\n",
      "6\n",
      "7\n",
      "8\n",
      "9\n",
      "10\n"
     ]
    }
   ],
   "source": [
    "i = 1\n",
    "n = 10\n",
    "while i<=n:\n",
    "    print(i)\n",
    "    i = i+1"
   ]
  },
  {
   "cell_type": "markdown",
   "id": "702f31fe",
   "metadata": {},
   "source": [
    "# Question 4"
   ]
  },
  {
   "cell_type": "code",
   "execution_count": null,
   "id": "74220f8a",
   "metadata": {},
   "outputs": [],
   "source": [
    "# 4. Accept number from user and calculate the sum of all number from 1 to a given number"
   ]
  },
  {
   "cell_type": "code",
   "execution_count": 11,
   "id": "f5e48d76",
   "metadata": {},
   "outputs": [
    {
     "name": "stdout",
     "output_type": "stream",
     "text": [
      "Enter the number: 10\n",
      "45\n"
     ]
    }
   ],
   "source": [
    "sum = 0\n",
    "n = int(input(\"Enter the number: \"))\n",
    "for i in range(1,n):\n",
    "    sum  = sum + i\n",
    "print(sum)"
   ]
  },
  {
   "cell_type": "markdown",
   "id": "4b1b070f",
   "metadata": {},
   "source": [
    "# Question 5"
   ]
  },
  {
   "cell_type": "code",
   "execution_count": null,
   "id": "29d9c408",
   "metadata": {},
   "outputs": [],
   "source": [
    "# 5. Given a list, iterate it, and display numbers divisible by five, and if you find a number greater than 150, stop the loop iteration."
   ]
  },
  {
   "cell_type": "code",
   "execution_count": 21,
   "id": "17bcc1a9",
   "metadata": {},
   "outputs": [
    {
     "name": "stdout",
     "output_type": "stream",
     "text": [
      "2.0\n",
      "3.0\n",
      "4.0\n",
      "4.6\n",
      "8.6\n",
      "6.4\n",
      "4.2\n"
     ]
    }
   ],
   "source": [
    "li = [10,15,20,23,43,32,21,300000,2333,23]\n",
    "for i in li:\n",
    "    div = i/5\n",
    "    if div>150:\n",
    "        break\n",
    "    else:\n",
    "        print(div)\n",
    "        \n",
    "\n"
   ]
  },
  {
   "cell_type": "markdown",
   "id": "835f8b42",
   "metadata": {},
   "source": [
    "# Question 6"
   ]
  },
  {
   "cell_type": "code",
   "execution_count": null,
   "id": "2c8414da",
   "metadata": {},
   "outputs": [],
   "source": [
    "# 6. Reverse the following list using for loop"
   ]
  },
  {
   "cell_type": "code",
   "execution_count": 4,
   "id": "ae2f71e1",
   "metadata": {},
   "outputs": [
    {
     "data": {
      "text/plain": [
       "[9, 8, 7, 6, 5, 4, 3, 2, 1]"
      ]
     },
     "execution_count": 4,
     "metadata": {},
     "output_type": "execute_result"
    }
   ],
   "source": [
    "list = [1,2,3,4,5,6,7,8,9]\n",
    "\n",
    "for i in range(len(list)//2):\n",
    "    list[i],list[-1-i] = list[-1-i],list[i]\n",
    "    \n",
    "list\n"
   ]
  },
  {
   "cell_type": "code",
   "execution_count": 8,
   "id": "55a8a813",
   "metadata": {},
   "outputs": [
    {
     "name": "stdout",
     "output_type": "stream",
     "text": [
      "35\n",
      "45\n",
      "30\n",
      "25\n",
      "20\n",
      "10\n"
     ]
    }
   ],
   "source": [
    "list1=[10,20,25,30,45,35]\n",
    "#list.reverse()\n",
    "for i in range(len(list1)-1,-1,-1):\n",
    "    print(list1[i])"
   ]
  },
  {
   "cell_type": "markdown",
   "id": "dbfe8e10",
   "metadata": {},
   "source": [
    "# Question 7"
   ]
  },
  {
   "cell_type": "code",
   "execution_count": null,
   "id": "cd919a19",
   "metadata": {},
   "outputs": [],
   "source": [
    "# 7. Display “My Name Is James” as “My**Name**Is**James” using output formatting of a print() function\n",
    "# For example: print('My', 'Name', 'Is', 'Tamim') will display MyNameIsJames\n",
    "\n",
    "# So use one of the formatting argument of print() to turn the output into My**Name**Is**Tamim"
   ]
  },
  {
   "cell_type": "code",
   "execution_count": 6,
   "id": "7bcbe865",
   "metadata": {},
   "outputs": [
    {
     "data": {
      "text/plain": [
       "'My**Name**Is**Tamim'"
      ]
     },
     "execution_count": 6,
     "metadata": {},
     "output_type": "execute_result"
    }
   ],
   "source": [
    "'My**Name**Is**Tamim'"
   ]
  },
  {
   "cell_type": "code",
   "execution_count": 7,
   "id": "610af716",
   "metadata": {},
   "outputs": [
    {
     "name": "stdout",
     "output_type": "stream",
     "text": [
      "My** Name** Is** Tamim\n"
     ]
    }
   ],
   "source": [
    "print('My**', 'Name**', 'Is**', 'Tamim')"
   ]
  },
  {
   "cell_type": "markdown",
   "id": "8353fe66",
   "metadata": {},
   "source": [
    "# Question 8"
   ]
  },
  {
   "cell_type": "code",
   "execution_count": null,
   "id": "bbdc0038",
   "metadata": {},
   "outputs": [],
   "source": [
    "# 8. Concatenate two lists index-wise"
   ]
  },
  {
   "cell_type": "code",
   "execution_count": 17,
   "id": "205d0b78",
   "metadata": {
    "scrolled": true
   },
   "outputs": [
    {
     "name": "stdout",
     "output_type": "stream",
     "text": [
      "first list valu is : ['Iam', 'Student', 'DIU', 'in']\n",
      "2nd list valu is : [' a', ' of', ' Dept', ' CSE']\n",
      "The list After element concatente is : ['Iam a', 'Student of', 'DIU Dept', 'in CSE']\n"
     ]
    }
   ],
   "source": [
    "a = [\"Iam\",\"Student\",\"DIU\",\"in\"]\n",
    "b = [\" a\",\" of\",\" Dept\",\" CSE\"]\n",
    "\n",
    "print(\"first list valu is : \" + str(a))\n",
    "print(\"2nd list valu is : \" + str(b))\n",
    "\n",
    "# res = list(map(lambda(i, j): i + j, zip(test_list1, test_list2)))\n",
    "\n",
    "# res = list(map(lambda(i,j): i + j, zip(a,b)))\n",
    "\n",
    "# res = [i + j for i, j in zip(test_list1, test_list2)]\n",
    "\n",
    "res = [i + j for i, j in zip(a,b)]\n",
    "\n",
    "print(\"The list After element concatente is : \" +str(res))\n",
    "           \n",
    "\n",
    "\n",
    "\n",
    "\n",
    "\n"
   ]
  },
  {
   "cell_type": "markdown",
   "id": "ae9eb2d6",
   "metadata": {},
   "source": [
    "# Skip this part"
   ]
  },
  {
   "cell_type": "code",
   "execution_count": 12,
   "id": "795654b4",
   "metadata": {
    "scrolled": true
   },
   "outputs": [
    {
     "name": "stdout",
     "output_type": "stream",
     "text": [
      "The original list 1 is : ['Geeksfor', 'i', 'be']\n",
      "The original list 2 is : ['Geeks', 's', 'st']\n",
      "The list after element concatenation is : ['GeeksforGeeks', 'is', 'best']\n"
     ]
    }
   ],
   "source": [
    "\n",
    "\n",
    "\n",
    "# Python3 code to demonstrate\n",
    "# interlist element concatenation\n",
    "# using list comprehension + zip()\n",
    "\n",
    "# initializing lists\n",
    "test_list1 = [\"Geeksfor\", \"i\", \"be\"]\n",
    "test_list2 = ['Geeks', 's', 'st']\n",
    "\n",
    "# printing original lists\n",
    "print (\"The original list 1 is : \" + str(test_list1))\n",
    "print (\"The original list 2 is : \" + str(test_list2))\n",
    "\n",
    "# using list comprehension + zip()\n",
    "# interlist element concatenation\n",
    "res = [i + j for i, j in zip(test_list1, test_list2)]\n",
    "\n",
    "# printing result\n",
    "print (\"The list after element concatenation is : \" + str(res))\n"
   ]
  },
  {
   "cell_type": "markdown",
   "id": "72c34a35",
   "metadata": {},
   "source": [
    "# Question 9"
   ]
  },
  {
   "cell_type": "code",
   "execution_count": 20,
   "id": "930048ab",
   "metadata": {},
   "outputs": [],
   "source": [
    "# Given a Python list of numbers. Turn every item of a list into its square\n",
    "# "
   ]
  },
  {
   "cell_type": "code",
   "execution_count": 23,
   "id": "3e5e3af6",
   "metadata": {},
   "outputs": [
    {
     "name": "stdout",
     "output_type": "stream",
     "text": [
      "[1, 4, 9, 16, 25, 36, 49, 64, 81]\n"
     ]
    }
   ],
   "source": [
    "list = [1,2,3,4,5,6,7,8,9]\n",
    "squ_nam = [list1 ** 2 for list1 in list]\n",
    "print(squ_nam)"
   ]
  },
  {
   "cell_type": "markdown",
   "id": "c5089db4",
   "metadata": {},
   "source": [
    "# Question 10"
   ]
  },
  {
   "cell_type": "code",
   "execution_count": 24,
   "id": "ba920888",
   "metadata": {},
   "outputs": [],
   "source": [
    "# 10. Access value 20 from the following tuple -> aTuple = (\"Orange\", [10, 20, 30], (5, 15, 25))\n"
   ]
  },
  {
   "cell_type": "code",
   "execution_count": 25,
   "id": "6dae619d",
   "metadata": {},
   "outputs": [
    {
     "name": "stdout",
     "output_type": "stream",
     "text": [
      "20\n"
     ]
    }
   ],
   "source": [
    "aTuple = (\"Orange\", [10, 20, 30], (5, 15, 25))\n",
    "print(aTuple[1][1])\n"
   ]
  }
 ],
 "metadata": {
  "kernelspec": {
   "display_name": "Python 3",
   "language": "python",
   "name": "python3"
  },
  "language_info": {
   "codemirror_mode": {
    "name": "ipython",
    "version": 3
   },
   "file_extension": ".py",
   "mimetype": "text/x-python",
   "name": "python",
   "nbconvert_exporter": "python",
   "pygments_lexer": "ipython3",
   "version": "3.8.8"
  }
 },
 "nbformat": 4,
 "nbformat_minor": 5
}
